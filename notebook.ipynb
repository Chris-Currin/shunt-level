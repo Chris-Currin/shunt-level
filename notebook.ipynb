{
 "cells": [
  {
   "cell_type": "markdown",
   "metadata": {},
   "source": [
    "# Spatio-Temporal properties of chloride in dendrites"
   ]
  },
  {
   "cell_type": "markdown",
   "metadata": {},
   "source": [
    "## Check python version, hot-reload files that change, and set width to screen width"
   ]
  },
  {
   "cell_type": "code",
   "execution_count": null,
   "metadata": {},
   "outputs": [],
   "source": [
    "# for auto-reloading external modules\n",
    "# see http://stackoverflow.com/questions/1907993/autoreload-of-modules-in-ipython\n",
    "%load_ext autoreload\n",
    "%autoreload 2\n",
    "import sys\n",
    "print(sys.version)\n",
    "assert sys.version.split('|')[0][0]=='2', 'change kernel to python 2'\n",
    "from IPython.core.display import display, HTML\n",
    "display(HTML(\"<style>.container { width:100% !important; }</style>\"))"
   ]
  },
  {
   "cell_type": "markdown",
   "metadata": {},
   "source": [
    "## Compile MOD files"
   ]
  },
  {
   "cell_type": "code",
   "execution_count": null,
   "metadata": {},
   "outputs": [],
   "source": [
    "!nrnivmodl"
   ]
  },
  {
   "cell_type": "code",
   "execution_count": null,
   "metadata": {
    "scrolled": true
   },
   "outputs": [],
   "source": [
    "!/usr/local/nrn/bin/nrnivmodl"
   ]
  },
  {
   "cell_type": "markdown",
   "metadata": {},
   "source": [
    "## Imports"
   ]
  },
  {
   "cell_type": "code",
   "execution_count": null,
   "metadata": {},
   "outputs": [],
   "source": [
    "from __future__ import division, print_function\n",
    "\n",
    "import matplotlib.pyplot as plt\n",
    "import numpy as np\n",
    "import pandas as pd\n",
    "import logging\n",
    "%matplotlib notebook"
   ]
  },
  {
   "cell_type": "markdown",
   "metadata": {},
   "source": [
    "# Morphologies\n",
    "\n",
    "There is a single morphology used in these simulations akin to the morphology in Fig 4E from the paper `Principles Governing the Operation of Synaptic Inhibition in Dendrites`\n",
    "\n",
    "The difference between the 2 classes is that `MultiDend` has mechanisms from `BaseNeuron`:\n",
    "```\n",
    "self.na = Mechanism('na', gbar=g_na_bar)\n",
    "self.kv = Mechanism('kv', gbar=g_k_bar)\n",
    "self.im = Mechanism('im', gkbar=g_im_bar)\n",
    "self.pasghk = Mechanism('pasghk', gclpbar=g_pas_cl, gnapbar=g_pas_na, gkpbar=g_pas_k)\n",
    "```\n",
    "\n",
    "while `MultiDendSimple` has mechanism\n",
    "* pas\n",
    "\n",
    "\n",
    "| Fig 4E             | MultiDend (with 16 dendrites) |\n",
    "|--------------------|-------------------------------|\n",
    "|![Fig 4E](Fig4E.png)|![MultiDend.png](MultiDend.png)|\n",
    "\n"
   ]
  },
  {
   "cell_type": "code",
   "execution_count": null,
   "metadata": {},
   "outputs": [],
   "source": [
    "from nrnutils import Section, Mechanism, DISTAL, PROXIMAL\n",
    "from baseneuron import BaseNeuron\n",
    "logger = logging.getLogger('morphology')\n",
    "\n",
    "# noinspection PyAttributeOutsideInit\n",
    "class MultiDend(BaseNeuron):\n",
    "    \"\"\"\n",
    "    Soma with [num_dendrites-1] projecting from it.\n",
    "    Uses pasghk mechanism which sets the base vm from the im, na, kv, and (optionally) KCC2 channels\n",
    "    \"\"\"\n",
    "    def __init__(self, name=\"MultiDend\", num_dendrites=1, even_radial=False,\n",
    "                 radial_l=50, radial_diam=2, radial_nseg=9,\n",
    "                 *args, **kwargs):\n",
    "        self.num_dendrites = num_dendrites\n",
    "        self.radial = even_radial\n",
    "        self.radial_L = radial_l\n",
    "        self.radial_diam = radial_diam\n",
    "        self.radial_nseg = radial_nseg\n",
    "        super(MultiDend, self).__init__(name, call_geom_nseg=False, *args, **kwargs)\n",
    "\n",
    "    def build_sections(self, axon=False, soma=False, **kwargs):\n",
    "        super(MultiDend, self).build_sections(axon=axon,soma=soma,**kwargs)\n",
    "        self.radial_dends = []\n",
    "        if soma:\n",
    "            parent=self.soma\n",
    "        else:\n",
    "            parent=None\n",
    "        \n",
    "        connection_point = PROXIMAL\n",
    "        for i in range(self.num_dendrites):\n",
    "            self.radial_dends.append(Section(L=self.radial_L, diam=self.radial_diam,\n",
    "                                             nseg=self.radial_nseg,\n",
    "                                             Ra=self.Ra, cm=self.cm,\n",
    "                                             mechanisms=self.mechanisms,\n",
    "                                             parent=parent,\n",
    "                                             connection_point=connection_point))\n",
    "            self.radial_dends[i].name = 'radial_dends_{}'.format(i + 1)\n",
    "            if parent is None:\n",
    "                parent = self.radial_dends[i]\n",
    "                self.soma = self.radial_dends[i]\n",
    "        self.dend = self.radial_dends\n",
    "        self.sections += self.radial_dends\n",
    "\n",
    "\n",
    "# noinspection PyAttributeOutsideInit\n",
    "class MultiDendSimple(MultiDend):\n",
    "    \"\"\"\n",
    "    Similar to MultiDend above, but with a key difference:\n",
    "        vm is set by neuron's pas mechanism (parameters in BaseNeuron mechanisms def)\n",
    "    \"\"\"\n",
    "    def create_mechanisms(self,**kwargs):\n",
    "        Rm = 20000  # Ohm cm^2 membrane resistance\n",
    "        self.pas = Mechanism('pas', e=-65, g=(1.0 / Rm))\n",
    "        assert self.pas.parameters['g'] > 0, \"division not working correctly\"\n",
    "        self.mechanisms.append(self.pas)\n",
    "        \n"
   ]
  },
  {
   "cell_type": "markdown",
   "metadata": {},
   "source": [
    "## Initialise some shared parameters"
   ]
  },
  {
   "cell_type": "markdown",
   "metadata": {},
   "source": [
    "### run INIT from shared (and import settings)"
   ]
  },
  {
   "cell_type": "code",
   "execution_count": null,
   "metadata": {},
   "outputs": [],
   "source": [
    "from shared import INIT\n",
    "import settings\n",
    "from neuron import h,gui\n",
    "INIT()\n",
    "h(\"printf 1\")"
   ]
  },
  {
   "cell_type": "markdown",
   "metadata": {},
   "source": [
    "# Run and plot shunt level using `voltage_shunt_level.py`\n",
    "\n",
    "## How to calculate shunt level\n",
    "for each of $V_d$ = no inhibition and $V_d^*$ = with inhibition:\n",
    "1. Run NEURON, recording voltage at every seg of every compartment (can be set explicitly, but this is default behaviour)\n",
    "2. convert h.Vector objects to python pandas (pd) `pd.DataFrame` object\n",
    "3. integrate said object using `window=tm` (default is `tm=t` : window equal to simulation time)\n",
    "\n",
    "### code example from `voltage_shunt_level.py`\n",
    "```\n",
    "# 1\n",
    "hoc_run(v_init=v_init, tstop=t, quick=False, record_from=neurons, record_args=record_args)\n",
    "\n",
    "# 2\n",
    "logger.debug(\"creating Vd* dataframe\")\n",
    "start = time.time()\n",
    "df_v_star = neuron.convert_recordings()['v']\n",
    "logger.debug(\"conversion took {:.2f}s\".format(time.time() - start))\n",
    "df_v_star = df_v_star.reindex(df_v_star.columns, axis='columns')\n",
    "\n",
    "#3\n",
    "logger.debug(\"integrating Vd* with t={} tm={}\".format(t, tm))\n",
    "start = time.time()\n",
    "integral_v_d_star = integrate(df_v_star, window=tm)\n",
    "```\n",
    "\n",
    "### code for  `integrate` method in `shunt_level.py`\n",
    "```\n",
    "\n",
    "def integrate(df, how='trapz', window=20, rolling=False):\n",
    "    \"\"\"Numerically integrate the time series.\n",
    "\n",
    "    :type df: pd.DataFrame\n",
    "    :param df:\n",
    "    :param how: the method to use (trapz by default)\n",
    "    :param window: the integration window, tm, in ms (20 by default)\n",
    "\n",
    "    :return\n",
    "\n",
    "    Available methods:\n",
    "     * trapz - trapezoidal\n",
    "     * cumtrapz - cumulative trapezoidal\n",
    "     * simps - Simpson's rule\n",
    "     * romb - Romberger's rule\n",
    "\n",
    "    See http://docs.scipy.org/doc/scipy/reference/integrate.html for the method details.\n",
    "    or the source code\n",
    "    https://github.com/scipy/scipy/blob/master/scipy/integrate/quadrature.py\n",
    "    \"\"\"\n",
    "    from scipy import integrate\n",
    "\n",
    "    available_rules = set(['trapz', 'cumtrapz', 'simps', 'romb'])\n",
    "    if how in available_rules:\n",
    "        rule = integrate.__getattribute__(how)\n",
    "    else:\n",
    "        print('Unsupported integration rule: %s' % (how))\n",
    "        print('Expecting one of these sample-based integration rules: %s' % (str(list(available_rules))))\n",
    "        raise AttributeError\n",
    "    \n",
    "    # set area under the curve to be between Vm and 0 (default), -80, or v_init (not implemented)\n",
    "    # df = df-(-80.0)\n",
    "    # df = df - df.iloc[0,0]\n",
    "    if rolling:\n",
    "        rolling_window = df.rolling(window=int(window / h.dt))\n",
    "        result = rolling_window.apply(rule)  # integrate along the index (time)\n",
    "    else:\n",
    "        # shift dataframe to only have points at edge of window (leftmost will always be 0\n",
    "        t_points = df[::int(window / h.dt)].index.values\n",
    "        if len(t_points) <= 1:\n",
    "            t_points = df[::(len(df) - 1)].index.values\n",
    "            logger.info(\"window was too big, changing window from {} to [}\".format(window, (len(df) - 1) * h.dt))\n",
    "        result = pd.DataFrame(columns=df.columns, index=t_points)\n",
    "        for t in range(1, len(t_points)):\n",
    "            result.loc[t_points[t]] = df[t_points[t - 1]:t_points[t]].apply(rule)\n",
    "    return result.apply(np.abs)[1::]    # skip the first series (when t=0 and all values are nan)\n",
    "\n",
    "\n",
    "```"
   ]
  },
  {
   "cell_type": "markdown",
   "metadata": {},
   "source": [
    "# In-line code to plot shunt level"
   ]
  },
  {
   "cell_type": "code",
   "execution_count": null,
   "metadata": {},
   "outputs": [],
   "source": [
    "from voltage_shunt_level import voltage_shunt_level, voltage_shunt_level_plot\n",
    "logger = logging.getLogger('sl_accumulation')"
   ]
  },
  {
   "cell_type": "markdown",
   "metadata": {},
   "source": [
    "## Use `plot` argument\n",
    "`False` for individual plots, `True` for shared axes for every call to `voltage_shunt_level`\n",
    "\n",
    "Note on plots: The SL Attentuation axis is the dashed lines and is most relevant for simulations with excitation"
   ]
  },
  {
   "cell_type": "code",
   "execution_count": null,
   "metadata": {},
   "outputs": [],
   "source": [
    "plot = voltage_shunt_level_plot(new_once=False)"
   ]
  },
  {
   "cell_type": "markdown",
   "metadata": {},
   "source": [
    "# Simulations\n",
    "### options\n",
    "`neuron_class`\n",
    "* `MultiDendSimple`\n",
    "* `MultiDend`\n",
    "* `SingleDend`  --> in `morphology.py`\n",
    "\n",
    "`inhib_syn_type`\n",
    "* `inhfluct_simple`\n",
    "* `inhlfuct`\n",
    "* `GABAa`\n",
    "\n",
    "`exc_syn_type`\n",
    "* `exfluct_simple`\n",
    "* `exfluct`\n",
    "* `ampa_Tian`\n"
   ]
  },
  {
   "cell_type": "markdown",
   "metadata": {},
   "source": [
    "## On-path vs off-path\n",
    "\n",
    "This figure recapitulates your finding that off-path inhibition affects dendritic excitability more than on-path inhibition ([Figure 1 from your paper](https://www.sciencedirect.com/science/article/pii/S0896627312004813?via%3Dihub#fig1)).\n",
    "\n",
    "Blue is off-path, green is on-path. \n",
    "\n",
    "The top figure plots the voltage trace similar to `Figure S9. SL attenuation for transient inhibitory and excitatory inputs.`. Multiple traces are for different segments. Solid line is with no inhibition. Dashed line is with inhibition.\n",
    "\n",
    "The bottom figure is shunt level using Eq. S19. The filled dot is where the excitatory synapses were place ('Hotspot'). Inverted triangles are where inhibitory synapses were placed ('$g_i$'). \n",
    "\n",
    "Then shunt level at the hotspot is higher for the blue, off-path inhibition, trace. \n",
    "\n",
    "**Note** that because no `neuron_class` is specified, `SingleDend` is used\n",
    "\n",
    "change `plot_df_sl_atten` to `True` to show the attentuation of the shunt level from the hotspot."
   ]
  },
  {
   "cell_type": "code",
   "execution_count": null,
   "metadata": {
    "scrolled": false
   },
   "outputs": [],
   "source": [
    "plot = voltage_shunt_level_plot(new_once=True)\n",
    "num_exc_synapses = 20\n",
    "num_inh_synapses = 20\n",
    "off_path_location = 0.99\n",
    "on_path_location = 0.2\n",
    "hotspot_location = (off_path_location - on_path_location) / 2.0 + on_path_location\n",
    "plot_df_sl_atten=False\n",
    "\n",
    "common_netstim_args = dict(hz=20,\n",
    "                            start=0,\n",
    "                            noise=1,\n",
    "                            duration=None,  # defaults to tstop\n",
    "                            weight=1,\n",
    "                            n_sources=0)\n",
    "\n",
    "voltage_shunt_level(plot, plot_df_sl_atten=plot_df_sl_atten, v_init='auto',\n",
    "                    inhib_syn_type='GABAa', exc_syn_type='ampa_Tian',\n",
    "                    inhib_n_loc_insert=[off_path_location] * num_inh_synapses,\n",
    "                    hotspot_n_loc_insert=[hotspot_location] * num_exc_synapses,\n",
    "                    inh_netstim_args=common_netstim_args,\n",
    "                    exc_netstim_args=common_netstim_args,\n",
    "                    colormap='Blues', iter_label=\"Off-path\")\n",
    "voltage_shunt_level(plot, plot_df_sl_atten=plot_df_sl_atten, v_init='auto',\n",
    "                    inhib_syn_type='GABAa', exc_syn_type='ampa_Tian',\n",
    "                    inhib_n_loc_insert=[on_path_location] * num_inh_synapses,\n",
    "                    hotspot_n_loc_insert=[hotspot_location] * num_exc_synapses,\n",
    "                    inh_netstim_args=common_netstim_args,\n",
    "                    exc_netstim_args=common_netstim_args,\n",
    "                    colormap='Greens', iter_label=\"On-path\")\n",
    "\n",
    "# voltage_shunt_level(plot, v_init='auto',\n",
    "#                     inhib_syn_type='GABAa', exc_syn_type='ampa_Tian',\n",
    "#                     inhib_n_loc_insert=[off_path_location] * int(num_synapses / 2) +\n",
    "#                                        [on_path_location] * int(num_synapses / 2),\n",
    "#                     hotspot_n_loc_insert=[hotspot_location] * num_synapses,\n",
    "#                     inh_netstim_args=inh_netstim_args,\n",
    "#                     exc_netstim_args=inh_netstim_args,\n",
    "#                     colormap='Reds', iter_label=\"On- and Off-path\")\n",
    "plt.show()"
   ]
  },
  {
   "cell_type": "markdown",
   "metadata": {},
   "source": [
    "## Shunt Level Accumulation\n",
    "\n",
    "From your Fig 4F ![sl_accumulation.png](sl_accumulation.png)\n",
    "\n",
    "Shunt Level should be greater at a junction than at the synapse for sufficiently great number of branches. \n",
    "\n",
    "Here I try recreate that using a simple model (reduced parameters, no ions) and a (slightly) more complex model with GABAa and ions $K^+$ , $Na^+$ , $Cl^-$ , and $HCO_3^-$.\n",
    "\n",
    "I've tried a number of parameters in `kwargs`, as well as in `inh_netstim_args`, plus with + without excitation (`exc_syn_type` as `None` or `ampa_Tian`).\n",
    "\n",
    "I've also tried different morphologies, but have reduced it to as simple as possible to recreate the finding. I attempted a 2-cylinder model (not shown), but wasn't succeeding with having the simulations be the same as in the radial (`MultiDend`) model.\n",
    "\n"
   ]
  },
  {
   "cell_type": "markdown",
   "metadata": {},
   "source": [
    "### create plot per simulation"
   ]
  },
  {
   "cell_type": "code",
   "execution_count": null,
   "metadata": {},
   "outputs": [],
   "source": [
    "plot = voltage_shunt_level_plot(new_once=False)"
   ]
  },
  {
   "cell_type": "markdown",
   "metadata": {},
   "source": [
    "## Neuron Parameters"
   ]
  },
  {
   "cell_type": "code",
   "execution_count": null,
   "metadata": {},
   "outputs": [],
   "source": [
    "x_units = [\n",
    "    settings.um, # distance from soma on x-axis of shunt-level (where soma(0.0) is 0 and soma(1.0) is L)\n",
    "    'X'          # X on x-axis of shunt-level\n",
    "    ][1] # choose option\n",
    " \n",
    "# note that parameters in kwarg will only apply to the morphology that has that parameter\n",
    "#   e.g. g_k_bar will be set in MultiDend but not MultiDendSimple (as 'k' mechanism is not present)\n",
    "kwargs = {\n",
    "    'radial_l': 50,\n",
    "    'radial_diam': 1, \n",
    "    'g_k_bar': 5,  # default = 5\n",
    "    'p_cl': 0.4,  # default = 0.4\n",
    "    'g_na_bar': 2000,  # default = 2000\n",
    "    'p_na': 0.23,  # default = 0.23\n",
    "    'num_dendrites': 16,\n",
    "    'inh_synapse_sources': 1, # default 1, 0 for each synapse to get it's own source of input\n",
    "    'Ra': 100,  # default = 100\n",
    "    'g_im_bar': 0.00012,  # default = 0.00012\n",
    "    'g_pas_k': 0.000125,  # default = 0.000125\n",
    "}\n",
    "neuron_kwargs = dict(\n",
    "    axon=False,\n",
    "    soma=False,\n",
    "    even_radial=False,\n",
    "    radial_nseg=9,\n",
    "    **kwargs\n",
    ")\n"
   ]
  },
  {
   "cell_type": "markdown",
   "metadata": {},
   "source": [
    "### Excitation\n",
    "`exc_syn_type = None` disables excitation altogether.\n",
    "\n",
    "Trying changing `None` to `ampa_Tian` to have excitation"
   ]
  },
  {
   "cell_type": "code",
   "execution_count": null,
   "metadata": {},
   "outputs": [],
   "source": [
    "exc_syn_type  = None\n",
    "total_exc_synapses = 20\n",
    "exc_synapse_location = 0.01\n",
    "exc_netstim_args = dict(hz=100,\n",
    "                        start=0,\n",
    "                        noise=1,\n",
    "                        duration=None,  # defaults to tstop\n",
    "                        weight=1,\n",
    "                        n_sources=0)"
   ]
  },
  {
   "cell_type": "markdown",
   "metadata": {},
   "source": [
    "### Inhibition\n",
    "`loc` is location of inhibition on dendrite\n",
    "\n",
    "`inh_netstim_args` only applies when `inhib_syn_type = GABAa` "
   ]
  },
  {
   "cell_type": "code",
   "execution_count": null,
   "metadata": {},
   "outputs": [],
   "source": [
    "loc = 0.2\n",
    "\n",
    "inh_netstim_args = dict(hz=100,\n",
    "                        start=0,\n",
    "                        noise=1,\n",
    "                        duration=None,  # defaults to tstop\n",
    "                        weight=1, # increases strength of a single synapse (# channels activated)\n",
    "                        n_sources=kwargs['inh_synapse_sources'])"
   ]
  },
  {
   "cell_type": "markdown",
   "metadata": {},
   "source": [
    "## SIMPLE Model\n",
    "\n",
    "| inhib_syn_type | neuron_class | \n",
    "|--- | --- |\n",
    "| `inhfluct_simple` | `MultiDendSimple` |\n",
    "\n",
    "\n"
   ]
  },
  {
   "cell_type": "code",
   "execution_count": null,
   "metadata": {
    "scrolled": false
   },
   "outputs": [],
   "source": [
    "iter_label = \"simple model (no soma)\"\n",
    "logger.debug(iter_label)\n",
    "\n",
    "inhib_syn_type = 'inhfluct_simple'\n",
    "\n",
    "neuron_class = MultiDendSimple\n",
    "\n",
    "logger.debug(\"running\")\n",
    "df_sl, df_sl_att, fig, axes = voltage_shunt_level(plot,\n",
    "                                                  v_init='auto',\n",
    "                                                  e_offset=-5,\n",
    "                                                  inhib_syn_type=inhib_syn_type,\n",
    "                                                  exc_syn_type=exc_syn_type,\n",
    "                                                  inhib_n_loc_insert=[loc],\n",
    "                                                  hotspot_n_loc_insert=[('dend[0]',[exc_synapse_location] * total_exc_synapses)],\n",
    "                                                  inh_netstim_args=inh_netstim_args,\n",
    "                                                  exc_netstim_args=exc_netstim_args,\n",
    "                                                  colormap='RdYlGn',\n",
    "                                                  neuron=neuron_class,\n",
    "                                                  neuron_args=neuron_kwargs,\n",
    "                                                  iter_label=iter_label,\n",
    "                                                  x_units=x_units)\n",
    "axes[1].autoscale(True)\n",
    "axes[2].autoscale(True)\n",
    "plt.show()"
   ]
  },
  {
   "cell_type": "markdown",
   "metadata": {},
   "source": [
    "## GABAa Model\n",
    "\n",
    "| inhib_syn_type | neuron_class | \n",
    "|--- | --- |\n",
    "| `GABAa` | `MultiDend` |\n",
    "\n"
   ]
  },
  {
   "cell_type": "code",
   "execution_count": null,
   "metadata": {
    "scrolled": false
   },
   "outputs": [],
   "source": [
    "iter_label = \"GABAa model (no soma)\"\n",
    "logger.debug(iter_label)\n",
    "\n",
    "inhib_syn_type = 'GABAa'\n",
    "\n",
    "neuron_class = MultiDend\n",
    "\n",
    "logger.debug(\"running\")\n",
    "df_sl, df_sl_att, fig, axes = voltage_shunt_level(plot,\n",
    "                                                  v_init='auto',\n",
    "                                                  cli=5,\n",
    "                                                  inhib_syn_type=inhib_syn_type,\n",
    "                                                  exc_syn_type=exc_syn_type,\n",
    "                                                  inhib_n_loc_insert=[loc],\n",
    "                                                  hotspot_n_loc_insert=[('dend[0]',[exc_synapse_location] * total_exc_synapses)],\n",
    "                                                  inh_netstim_args=inh_netstim_args,\n",
    "                                                  exc_netstim_args=exc_netstim_args,\n",
    "                                                  colormap='Blues',\n",
    "                                                  neuron=neuron_class,\n",
    "                                                  neuron_args=neuron_kwargs,\n",
    "                                                  iter_label=iter_label,\n",
    "                                                  x_units=x_units)\n",
    "axes[1].autoscale(True)\n",
    "axes[2].autoscale(True)\n",
    "plt.show()"
   ]
  },
  {
   "cell_type": "markdown",
   "metadata": {},
   "source": [
    "### what SL DataFrame looks like"
   ]
  },
  {
   "cell_type": "code",
   "execution_count": null,
   "metadata": {},
   "outputs": [],
   "source": [
    "df_sl"
   ]
  },
  {
   "cell_type": "code",
   "execution_count": null,
   "metadata": {},
   "outputs": [],
   "source": []
  }
 ],
 "metadata": {
  "kernelspec": {
   "display_name": "Python 2",
   "language": "python",
   "name": "python2"
  },
  "language_info": {
   "codemirror_mode": {
    "name": "ipython",
    "version": 2
   },
   "file_extension": ".py",
   "mimetype": "text/x-python",
   "name": "python",
   "nbconvert_exporter": "python",
   "pygments_lexer": "ipython2",
   "version": "2.7.12"
  }
 },
 "nbformat": 4,
 "nbformat_minor": 1
}
