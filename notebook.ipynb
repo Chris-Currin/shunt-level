{
 "cells": [
  {
   "cell_type": "markdown",
   "metadata": {},
   "source": [
    "# Spatio-Temporal properties of chloride in dendrites"
   ]
  },
  {
   "cell_type": "markdown",
   "metadata": {},
   "source": [
    "## Check python version, hot-reload files that change, and set width to screen width"
   ]
  },
  {
   "cell_type": "code",
   "execution_count": 1,
   "metadata": {
    "ExecuteTime": {
     "end_time": "2018-07-03T14:01:05.509096Z",
     "start_time": "2018-07-03T14:01:04.404805Z"
    }
   },
   "outputs": [
    {
     "name": "stdout",
     "output_type": "stream",
     "text": [
      "Requirement already up-to-date: pandas in /home/cbc/.local/lib/python2.7/site-packages (0.23.1)\n",
      "Requirement already up-to-date: numpy in /home/cbc/.local/lib/python2.7/site-packages (1.14.5)\n",
      "Requirement already up-to-date: scipy in /home/cbc/.local/lib/python2.7/site-packages (1.1.0)\n",
      "Requirement already up-to-date: matplotlib in /home/cbc/.local/lib/python2.7/site-packages (2.2.2)\n",
      "Requirement not upgraded as not directly required: python-dateutil>=2.5.0 in /home/cbc/.local/lib/python2.7/site-packages (from pandas) (2.6.1)\n",
      "Requirement not upgraded as not directly required: pytz>=2011k in /home/cbc/.local/lib/python2.7/site-packages (from pandas) (2017.3)\n",
      "Requirement not upgraded as not directly required: pyparsing!=2.0.4,!=2.1.2,!=2.1.6,>=2.0.1 in /home/cbc/.local/lib/python2.7/site-packages (from matplotlib) (2.2.0)\n",
      "Requirement not upgraded as not directly required: backports.functools-lru-cache in /home/cbc/.local/lib/python2.7/site-packages (from matplotlib) (1.4)\n",
      "Requirement not upgraded as not directly required: subprocess32 in /home/cbc/.local/lib/python2.7/site-packages (from matplotlib) (3.2.7)\n",
      "Requirement not upgraded as not directly required: six>=1.10 in /home/cbc/.local/lib/python2.7/site-packages (from matplotlib) (1.11.0)\n",
      "Requirement not upgraded as not directly required: kiwisolver>=1.0.1 in /usr/local/lib/python2.7/dist-packages (from matplotlib) (1.0.1)\n",
      "Requirement not upgraded as not directly required: cycler>=0.10 in /home/cbc/.local/lib/python2.7/site-packages (from matplotlib) (0.10.0)\n",
      "Requirement not upgraded as not directly required: setuptools in /home/cbc/.local/lib/python2.7/site-packages (from kiwisolver>=1.0.1->matplotlib) (36.2.7)\n"
     ]
    }
   ],
   "source": [
    "!conda install -n python2 pandas numpy scipy matplotlib -y\n",
    "!python2.7 -m pip install --upgrade pandas numpy scipy matplotlib --user"
   ]
  },
  {
   "cell_type": "code",
   "execution_count": 2,
   "metadata": {
    "ExecuteTime": {
     "end_time": "2018-07-03T14:01:05.750630Z",
     "start_time": "2018-07-03T14:01:05.728765Z"
    }
   },
   "outputs": [
    {
     "name": "stdout",
     "output_type": "stream",
     "text": [
      "2.7.12 (default, Dec  4 2017, 14:50:18) \n",
      "[GCC 5.4.0 20160609]\n"
     ]
    },
    {
     "data": {
      "text/html": [
       "<style>.container { width:100% !important; }</style>"
      ],
      "text/plain": [
       "<IPython.core.display.HTML object>"
      ]
     },
     "metadata": {},
     "output_type": "execute_result"
    }
   ],
   "source": [
    "# for auto-reloading external modules\n",
    "# see http://stackoverflow.com/questions/1907993/autoreload-of-modules-in-ipython\n",
    "%load_ext autoreload\n",
    "%autoreload 2\n",
    "import sys\n",
    "print(sys.version)\n",
    "assert sys.version.split('|')[0][0]=='2', 'change kernel to python 2'\n",
    "from IPython.core.display import display, HTML\n",
    "display(HTML(\"<style>.container { width:100% !important; }</style>\"))"
   ]
  },
  {
   "cell_type": "markdown",
   "metadata": {},
   "source": [
    "## Compile MOD files"
   ]
  },
  {
   "cell_type": "code",
   "execution_count": 3,
   "metadata": {
    "ExecuteTime": {
     "end_time": "2018-07-03T14:01:06.979991Z",
     "start_time": "2018-07-03T14:01:06.574783Z"
    }
   },
   "outputs": [
    {
     "name": "stdout",
     "output_type": "stream",
     "text": [
      "/home/cbc/dev/shunt-level\n",
      "GABAa.mod HH2.mod KCC2.mod ampa.mod exfluct_simple.mod im.mod inhfluct_simple.mod kv.mod na.mod nmda_Tian.mod pasghk.mod\n",
      "GABAa.mod HH2.mod KCC2.mod ampa.mod exfluct_simple.mod im.mod inhfluct_simple.mod kv.mod na.mod nmda_Tian.mod pasghk.mod\n",
      "\"/usr/local/nrn/share/nrn/libtool\"  --mode=compile gcc -DHAVE_CONFIG_H  -I. -I.. -I\"/usr/local/nrn/include/nrn\" -I\"/usr/local/nrn/x86_64/lib\"      -g -O2 -c -o mod_func.lo mod_func.c\n",
      "libtool: compile:  gcc -DHAVE_CONFIG_H -I. -I.. -I/usr/local/nrn/include/nrn -I/usr/local/nrn/x86_64/lib -g -O2 -c mod_func.c  -fPIC -DPIC -o .libs/mod_func.o\n",
      "\"/usr/local/nrn/share/nrn/libtool\"  --mode=link gcc -module  -g -O2    -o libnrnmech.la -rpath \"/usr/local/nrn/x86_64/lib\"  GABAa.lo HH2.lo KCC2.lo ampa.lo exfluct_simple.lo im.lo inhfluct_simple.lo kv.lo na.lo nmda_Tian.lo pasghk.lo mod_func.lo  -L\"/usr/local/nrn/x86_64/lib\" -lnrnoc -loc -lmemacs -lnrnmpi -lscopmath -lsparse13 -lreadline -lncurses -L\"/usr/local/nrn/x86_64/lib\" \"/usr/local/nrn/x86_64/lib/libnrniv.la\" -livoc -lneuron_gnu -lmeschach -lsundials       -lm -ldl\n",
      "libtool: link: rm -fr  .libs/libnrnmech.la .libs/libnrnmech.lai .libs/libnrnmech.so .libs/libnrnmech.so.0 .libs/libnrnmech.so.0.0.0\n",
      "libtool: link: gcc -shared  -fPIC -DPIC  .libs/GABAa.o .libs/HH2.o .libs/KCC2.o .libs/ampa.o .libs/exfluct_simple.o .libs/im.o .libs/inhfluct_simple.o .libs/kv.o .libs/na.o .libs/nmda_Tian.o .libs/pasghk.o .libs/mod_func.o   -Wl,-rpath -Wl,/usr/local/nrn/x86_64/lib -Wl,-rpath -Wl,/usr/local/nrn/x86_64/lib -L/usr/local/nrn/x86_64/lib /usr/local/nrn/x86_64/lib/libnrnoc.so /usr/local/nrn/x86_64/lib/liboc.so /usr/local/nrn/x86_64/lib/libmemacs.so /usr/local/nrn/x86_64/lib/libnrnmpi.so /usr/local/nrn/x86_64/lib/libscopmath.so /usr/local/nrn/x86_64/lib/libsparse13.so /usr/local/nrn/x86_64/lib/libreadline.so -lncurses /usr/local/nrn/x86_64/lib/libnrniv.so /usr/local/nrn/x86_64/lib/libivoc.so /usr/local/nrn/x86_64/lib/libneuron_gnu.so /usr/local/nrn/x86_64/lib/libmeschach.so /usr/local/nrn/x86_64/lib/libsundials.so -lm -ldl  -O2   -pthread -Wl,-soname -Wl,libnrnmech.so.0 -o .libs/libnrnmech.so.0.0.0\n",
      "libtool: link: (cd \".libs\" && rm -f \"libnrnmech.so.0\" && ln -s \"libnrnmech.so.0.0.0\" \"libnrnmech.so.0\")\n",
      "libtool: link: (cd \".libs\" && rm -f \"libnrnmech.so\" && ln -s \"libnrnmech.so.0.0.0\" \"libnrnmech.so\")\n",
      "libtool: link: ( cd \".libs\" && rm -f \"libnrnmech.la\" && ln -s \"../libnrnmech.la\" \"libnrnmech.la\" )\n",
      "Successfully created x86_64/special\n"
     ]
    }
   ],
   "source": [
    "!nrnivmodl"
   ]
  },
  {
   "cell_type": "code",
   "execution_count": 4,
   "metadata": {
    "ExecuteTime": {
     "end_time": "2018-07-03T14:01:07.333074Z",
     "start_time": "2018-07-03T14:01:06.981311Z"
    },
    "scrolled": true
   },
   "outputs": [
    {
     "name": "stdout",
     "output_type": "stream",
     "text": [
      "/home/cbc/dev/shunt-level\n",
      "GABAa.mod HH2.mod KCC2.mod ampa.mod exfluct_simple.mod im.mod inhfluct_simple.mod kv.mod na.mod nmda_Tian.mod pasghk.mod\n",
      "GABAa.mod HH2.mod KCC2.mod ampa.mod exfluct_simple.mod im.mod inhfluct_simple.mod kv.mod na.mod nmda_Tian.mod pasghk.mod\n",
      "\"/usr/local/nrn/share/nrn/libtool\"  --mode=compile gcc -DHAVE_CONFIG_H  -I. -I.. -I\"/usr/local/nrn/include/nrn\" -I\"/usr/local/nrn/x86_64/lib\"      -g -O2 -c -o mod_func.lo mod_func.c\n",
      "libtool: compile:  gcc -DHAVE_CONFIG_H -I. -I.. -I/usr/local/nrn/include/nrn -I/usr/local/nrn/x86_64/lib -g -O2 -c mod_func.c  -fPIC -DPIC -o .libs/mod_func.o\n",
      "\"/usr/local/nrn/share/nrn/libtool\"  --mode=link gcc -module  -g -O2    -o libnrnmech.la -rpath \"/usr/local/nrn/x86_64/lib\"  GABAa.lo HH2.lo KCC2.lo ampa.lo exfluct_simple.lo im.lo inhfluct_simple.lo kv.lo na.lo nmda_Tian.lo pasghk.lo mod_func.lo  -L\"/usr/local/nrn/x86_64/lib\" -lnrnoc -loc -lmemacs -lnrnmpi -lscopmath -lsparse13 -lreadline -lncurses -L\"/usr/local/nrn/x86_64/lib\" \"/usr/local/nrn/x86_64/lib/libnrniv.la\" -livoc -lneuron_gnu -lmeschach -lsundials       -lm -ldl\n",
      "libtool: link: rm -fr  .libs/libnrnmech.la .libs/libnrnmech.lai .libs/libnrnmech.so .libs/libnrnmech.so.0 .libs/libnrnmech.so.0.0.0\n",
      "libtool: link: gcc -shared  -fPIC -DPIC  .libs/GABAa.o .libs/HH2.o .libs/KCC2.o .libs/ampa.o .libs/exfluct_simple.o .libs/im.o .libs/inhfluct_simple.o .libs/kv.o .libs/na.o .libs/nmda_Tian.o .libs/pasghk.o .libs/mod_func.o   -Wl,-rpath -Wl,/usr/local/nrn/x86_64/lib -Wl,-rpath -Wl,/usr/local/nrn/x86_64/lib -L/usr/local/nrn/x86_64/lib /usr/local/nrn/x86_64/lib/libnrnoc.so /usr/local/nrn/x86_64/lib/liboc.so /usr/local/nrn/x86_64/lib/libmemacs.so /usr/local/nrn/x86_64/lib/libnrnmpi.so /usr/local/nrn/x86_64/lib/libscopmath.so /usr/local/nrn/x86_64/lib/libsparse13.so /usr/local/nrn/x86_64/lib/libreadline.so -lncurses /usr/local/nrn/x86_64/lib/libnrniv.so /usr/local/nrn/x86_64/lib/libivoc.so /usr/local/nrn/x86_64/lib/libneuron_gnu.so /usr/local/nrn/x86_64/lib/libmeschach.so /usr/local/nrn/x86_64/lib/libsundials.so -lm -ldl  -O2   -pthread -Wl,-soname -Wl,libnrnmech.so.0 -o .libs/libnrnmech.so.0.0.0\n",
      "libtool: link: (cd \".libs\" && rm -f \"libnrnmech.so.0\" && ln -s \"libnrnmech.so.0.0.0\" \"libnrnmech.so.0\")\n",
      "libtool: link: (cd \".libs\" && rm -f \"libnrnmech.so\" && ln -s \"libnrnmech.so.0.0.0\" \"libnrnmech.so\")\n",
      "libtool: link: ( cd \".libs\" && rm -f \"libnrnmech.la\" && ln -s \"../libnrnmech.la\" \"libnrnmech.la\" )\n",
      "Successfully created x86_64/special\n"
     ]
    }
   ],
   "source": [
    "!/usr/local/nrn/bin/nrnivmodl"
   ]
  },
  {
   "cell_type": "markdown",
   "metadata": {},
   "source": [
    "## Imports"
   ]
  },
  {
   "cell_type": "code",
   "execution_count": 5,
   "metadata": {
    "ExecuteTime": {
     "end_time": "2018-07-03T14:01:08.356352Z",
     "start_time": "2018-07-03T14:01:08.029889Z"
    }
   },
   "outputs": [],
   "source": [
    "from __future__ import division, print_function\n",
    "\n",
    "import matplotlib.pyplot as plt\n",
    "import numpy as np\n",
    "import pandas as pd\n",
    "import logging\n",
    "%matplotlib notebook"
   ]
  },
  {
   "cell_type": "markdown",
   "metadata": {},
   "source": [
    "# Morphologies\n",
    "\n",
    "There is a single morphology used in these simulations akin to the morphology in Fig 4E from the paper `Principles Governing the Operation of Synaptic Inhibition in Dendrites`\n",
    "\n",
    "The difference between the 2 classes is that `MultiDend` has mechanisms from `BaseNeuron`:\n",
    "```\n",
    "self.na = Mechanism('na', gbar=g_na_bar)\n",
    "self.kv = Mechanism('kv', gbar=g_k_bar)\n",
    "self.im = Mechanism('im', gkbar=g_im_bar)\n",
    "self.pasghk = Mechanism('pasghk', gclpbar=g_pas_cl, gnapbar=g_pas_na, gkpbar=g_pas_k)\n",
    "```\n",
    "\n",
    "while `MultiDendSimple` has mechanism\n",
    "* pas\n",
    "\n",
    "\n",
    "| Fig 4E             | MultiDend (with 16 dendrites) |\n",
    "|--------------------|-------------------------------|\n",
    "|![Fig 4E](Fig4E.png)|![MultiDend.png](MultiDend.png)|\n",
    "\n"
   ]
  },
  {
   "cell_type": "code",
   "execution_count": 6,
   "metadata": {
    "ExecuteTime": {
     "end_time": "2018-07-03T14:01:09.435048Z",
     "start_time": "2018-07-03T14:01:09.251127Z"
    }
   },
   "outputs": [
    {
     "name": "stdout",
     "output_type": "stream",
     "text": [
      "./x86_64/.libs/libnrnmech.so\n"
     ]
    }
   ],
   "source": [
    "from nrnutils import Section, Mechanism, DISTAL, PROXIMAL\n",
    "from baseneuron import BaseNeuron\n",
    "logger = logging.getLogger('morphology')\n",
    "\n",
    "# noinspection PyAttributeOutsideInit\n",
    "class MultiDend(BaseNeuron):\n",
    "    \"\"\"\n",
    "    Soma with [num_dendrites-1] projecting from it.\n",
    "    Uses pasghk mechanism which sets the base vm from the im, na, kv, and (optionally) KCC2 channels\n",
    "    \"\"\"\n",
    "    def __init__(self, name=\"MultiDend\", num_dendrites=1, even_radial=False,\n",
    "                 radial_l=50, radial_diam=2, radial_nseg=9,\n",
    "                 *args, **kwargs):\n",
    "        self.num_dendrites = num_dendrites\n",
    "        self.radial = even_radial\n",
    "        self.radial_L = radial_l\n",
    "        self.radial_diam = radial_diam\n",
    "        self.radial_nseg = radial_nseg\n",
    "        super(MultiDend, self).__init__(name, call_geom_nseg=False, *args, **kwargs)\n",
    "\n",
    "    def build_sections(self, axon=False, soma=False, **kwargs):\n",
    "        super(MultiDend, self).build_sections(axon=axon,soma=soma,**kwargs)\n",
    "        self.radial_dends = []\n",
    "        if soma:\n",
    "            parent=self.soma\n",
    "        else:\n",
    "            parent=None\n",
    "        \n",
    "        connection_point = PROXIMAL\n",
    "        for i in range(self.num_dendrites):\n",
    "            self.radial_dends.append(Section(L=self.radial_L, diam=self.radial_diam,\n",
    "                                             nseg=self.radial_nseg,\n",
    "                                             Ra=self.Ra, cm=self.cm,\n",
    "                                             mechanisms=self.mechanisms,\n",
    "                                             parent=parent,\n",
    "                                             connection_point=connection_point))\n",
    "            self.radial_dends[i].name = 'radial_dends_{}'.format(i + 1)\n",
    "            if parent is None:\n",
    "                parent = self.radial_dends[i]\n",
    "                self.soma = self.radial_dends[i]\n",
    "        self.dend = self.radial_dends\n",
    "        self.sections += self.radial_dends\n",
    "\n",
    "\n",
    "# noinspection PyAttributeOutsideInit\n",
    "class MultiDendSimple(MultiDend):\n",
    "    \"\"\"\n",
    "    Similar to MultiDend above, but with a key difference:\n",
    "        vm is set by neuron's pas mechanism (parameters in BaseNeuron mechanisms def)\n",
    "    \"\"\"\n",
    "    def create_mechanisms(self,**kwargs):\n",
    "        Rm = 20000  # Ohm cm^2 membrane resistance\n",
    "        self.pas = Mechanism('pas', e=-65, g=(1.0 / Rm))\n",
    "        assert self.pas.parameters['g'] > 0, \"division not working correctly\"\n",
    "        self.mechanisms.append(self.pas)\n",
    "        \n"
   ]
  },
  {
   "cell_type": "markdown",
   "metadata": {},
   "source": [
    "## Initialise some shared parameters"
   ]
  },
  {
   "cell_type": "markdown",
   "metadata": {},
   "source": [
    "### run INIT from shared (and import settings)"
   ]
  },
  {
   "cell_type": "code",
   "execution_count": 7,
   "metadata": {
    "ExecuteTime": {
     "end_time": "2018-07-03T14:01:11.058260Z",
     "start_time": "2018-07-03T14:01:11.012373Z"
    }
   },
   "outputs": [
    {
     "name": "stderr",
     "output_type": "stream",
     "text": [
      "07-03 16:01 shared                         INFO     [shared.py           :  36] \t load hoc files\n",
      "07-03 16:01 shared                         INFO     [shared.py           :  51] \t celsius=37.0 and v_init=-65.0\n"
     ]
    },
    {
     "data": {
      "text/plain": [
       "0"
      ]
     },
     "execution_count": 7,
     "metadata": {},
     "output_type": "execute_result"
    }
   ],
   "source": [
    "from shared import INIT\n",
    "import settings\n",
    "from neuron import h,gui\n",
    "INIT()\n",
    "h(\"printf 1\")"
   ]
  },
  {
   "cell_type": "markdown",
   "metadata": {},
   "source": [
    "# Run and plot shunt level using `voltage_shunt_level.py`\n",
    "\n",
    "## How to calculate shunt level\n",
    "for each of $V_d$ = no inhibition and $V_d^*$ = with inhibition:\n",
    "1. Run NEURON, recording voltage at every seg of every compartment (can be set explicitly, but this is default behaviour)\n",
    "2. convert h.Vector objects to python pandas (pd) `pd.DataFrame` object\n",
    "3. integrate said object using `window=tm` (default is `tm=t` : window equal to simulation time)\n",
    "\n",
    "### code example from `voltage_shunt_level.py`\n",
    "```\n",
    "# 1\n",
    "hoc_run(v_init=v_init, tstop=t, quick=False, record_from=neurons, record_args=record_args)\n",
    "\n",
    "# 2\n",
    "logger.debug(\"creating Vd* dataframe\")\n",
    "start = time.time()\n",
    "df_v_star = neuron.convert_recordings()['v']\n",
    "logger.debug(\"conversion took {:.2f}s\".format(time.time() - start))\n",
    "df_v_star = df_v_star.reindex(df_v_star.columns, axis='columns')\n",
    "\n",
    "#3\n",
    "logger.debug(\"integrating Vd* with t={} tm={}\".format(t, tm))\n",
    "start = time.time()\n",
    "integral_v_d_star = integrate(df_v_star, window=tm)\n",
    "```\n",
    "\n",
    "### code for  `integrate` method in `shunt_level.py`\n",
    "```\n",
    "\n",
    "def integrate(df, how='trapz', window=20, rolling=False):\n",
    "    \"\"\"Numerically integrate the time series.\n",
    "\n",
    "    :type df: pd.DataFrame\n",
    "    :param df:\n",
    "    :param how: the method to use (trapz by default)\n",
    "    :param window: the integration window, tm, in ms (20 by default)\n",
    "\n",
    "    :return\n",
    "\n",
    "    Available methods:\n",
    "     * trapz - trapezoidal\n",
    "     * cumtrapz - cumulative trapezoidal\n",
    "     * simps - Simpson's rule\n",
    "     * romb - Romberger's rule\n",
    "\n",
    "    See http://docs.scipy.org/doc/scipy/reference/integrate.html for the method details.\n",
    "    or the source code\n",
    "    https://github.com/scipy/scipy/blob/master/scipy/integrate/quadrature.py\n",
    "    \"\"\"\n",
    "    from scipy import integrate\n",
    "\n",
    "    available_rules = set(['trapz', 'cumtrapz', 'simps', 'romb'])\n",
    "    if how in available_rules:\n",
    "        rule = integrate.__getattribute__(how)\n",
    "    else:\n",
    "        print('Unsupported integration rule: %s' % (how))\n",
    "        print('Expecting one of these sample-based integration rules: %s' % (str(list(available_rules))))\n",
    "        raise AttributeError\n",
    "    \n",
    "    # set area under the curve to be between Vm and 0 (default), -80, or v_init (not implemented)\n",
    "    # df = df-(-80.0)\n",
    "    # df = df - df.iloc[0,0]\n",
    "    if rolling:\n",
    "        rolling_window = df.rolling(window=int(window / h.dt))\n",
    "        result = rolling_window.apply(rule)  # integrate along the index (time)\n",
    "    else:\n",
    "        # shift dataframe to only have points at edge of window (leftmost will always be 0\n",
    "        t_points = df[::int(window / h.dt)].index.values\n",
    "        if len(t_points) <= 1:\n",
    "            t_points = df[::(len(df) - 1)].index.values\n",
    "            logger.info(\"window was too big, changing window from {} to [}\".format(window, (len(df) - 1) * h.dt))\n",
    "        result = pd.DataFrame(columns=df.columns, index=t_points)\n",
    "        for t in range(1, len(t_points)):\n",
    "            result.loc[t_points[t]] = df[t_points[t - 1]:t_points[t]].apply(rule)\n",
    "    return result.apply(np.abs)[1::]    # skip the first series (when t=0 and all values are nan)\n",
    "\n",
    "\n",
    "```"
   ]
  },
  {
   "cell_type": "markdown",
   "metadata": {},
   "source": [
    "# In-line code to plot shunt level"
   ]
  },
  {
   "cell_type": "code",
   "execution_count": 8,
   "metadata": {
    "ExecuteTime": {
     "end_time": "2018-07-03T14:01:17.043518Z",
     "start_time": "2018-07-03T14:01:17.030226Z"
    }
   },
   "outputs": [],
   "source": [
    "from voltage_shunt_level import voltage_shunt_level, voltage_shunt_level_plot\n",
    "logger = logging.getLogger('sl_accumulation')"
   ]
  },
  {
   "cell_type": "markdown",
   "metadata": {},
   "source": [
    "## Use `plot` argument\n",
    "`False` for individual plots, `True` for shared axes for every call to `voltage_shunt_level`\n",
    "\n",
    "Note on plots: The SL Attentuation axis is the dashed lines and is most relevant for simulations with excitation"
   ]
  },
  {
   "cell_type": "code",
   "execution_count": 9,
   "metadata": {
    "ExecuteTime": {
     "end_time": "2018-07-03T14:01:20.343918Z",
     "start_time": "2018-07-03T14:01:20.332947Z"
    }
   },
   "outputs": [],
   "source": [
    "plot = voltage_shunt_level_plot(new_once=False)"
   ]
  },
  {
   "cell_type": "markdown",
   "metadata": {},
   "source": [
    "# Simulations\n",
    "### options\n",
    "`neuron_class`\n",
    "* `MultiDendSimple`\n",
    "* `MultiDend`\n",
    "* `SingleDend`  --> in `morphology.py`\n",
    "\n",
    "`inhib_syn_type`\n",
    "* `inhfluct_simple`\n",
    "* `inhlfuct`\n",
    "* `GABAa`\n",
    "\n",
    "`exc_syn_type`\n",
    "* `exfluct_simple`\n",
    "* `exfluct`\n",
    "* `ampa_Tian`\n"
   ]
  },
  {
   "cell_type": "markdown",
   "metadata": {},
   "source": [
    "## On-path vs off-path\n",
    "\n",
    "This figure recapitulates your finding that off-path inhibition affects dendritic excitability more than on-path inhibition ([Figure 1 from your paper](https://www.sciencedirect.com/science/article/pii/S0896627312004813?via%3Dihub#fig1)).\n",
    "\n",
    "Blue is off-path, green is on-path. \n",
    "\n",
    "The top figure plots the voltage trace similar to `Figure S9. SL attenuation for transient inhibitory and excitatory inputs.`. Multiple traces are for different segments. Solid line is with no inhibition. Dashed line is with inhibition.\n",
    "\n",
    "The bottom figure is shunt level using Eq. S19. The filled dot is where the excitatory synapses were place ('Hotspot'). Inverted triangles are where inhibitory synapses were placed ('$g_i$'). \n",
    "\n",
    "Then shunt level at the hotspot is higher for the blue, off-path inhibition, trace. \n",
    "\n",
    "**Note** that because no `neuron_class` is specified, `SingleDend` is used\n",
    "\n",
    "change `plot_df_sl_atten` to `True` to show the attentuation of the shunt level from the hotspot."
   ]
  },
  {
   "cell_type": "code",
   "execution_count": 10,
   "metadata": {
    "ExecuteTime": {
     "end_time": "2018-07-03T14:01:24.595621Z",
     "start_time": "2018-07-03T14:01:22.231989Z"
    },
    "scrolled": false
   },
   "outputs": [
    {
     "data": {
      "text/plain": [
       "<IPython.core.display.Javascript object>"
      ]
     },
     "metadata": {},
     "output_type": "display_data"
    },
    {
     "data": {
      "text/html": [
       "<img src=\"data:image/png;base64,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\" width=\"960\">"
      ],
      "text/plain": [
       "<IPython.core.display.HTML object>"
      ]
     },
     "metadata": {},
     "output_type": "execute_result"
    },
    {
     "name": "stderr",
     "output_type": "stream",
     "text": [
      "07-03 16:01 baseneuron                     DEBUG    [baseneuron.py       : 181] \t cli set to 5\n",
      "07-03 16:01 baseneuron                     DEBUG    [baseneuron.py       :  56] \t total nseg BEFORE geom_nseg: 275\n",
      "07-03 16:01 baseneuron                     DEBUG    [baseneuron.py       :  63] \t total nseg AFTER geom_nseg: 9\n",
      "07-03 16:01 baseneuron                     DEBUG    [baseneuron.py       :  64] \t Neuron built\n",
      "07-03 16:01 baseneuron                     DEBUG    [baseneuron.py       : 181] \t cli set to 4\n",
      "07-03 16:01 pynrnutils                     INFO     [pynrnutils.py       : 104] \t steady state [Cl]_i 4.8185494442\n",
      "07-03 16:01 pynrnutils                     INFO     [pynrnutils.py       : 105] \t steady state Vm -65.0\n",
      "07-03 16:01 pynrnutils                     INFO     [pynrnutils.py       : 106] \t took 50000 ms (simulation time)\n",
      "07-03 16:01 voltage_shunt_level            DEBUG    [voltage_shunt_level.py: 125] \t inhib_n_loc_insert = [([<nrnutils.Section object at 0x7fa131c65890>], [0.99, 0.99, 0.99, 0.99, 0.99, 0.99, 0.99, 0.99, 0.99, 0.99, 0.99, 0.99, 0.99, 0.99, 0.99, 0.99, 0.99, 0.99, 0.99, 0.99])]\n",
      "07-03 16:01 baseneuron                     INFO     [baseneuron.py       : 220] \t placing 'GABAa' on '['SingleDend__nrnsec_0x404e810']' at locations [0.99, 0.99, 0.99, 0.99, 0.99, 0.99, 0.99, 0.99, 0.99, 0.99, 0.99, 0.99, 0.99, 0.99, 0.99, 0.99, 0.99, 0.99, 0.99, 0.99]\n",
      "07-03 16:01 baseneuron                     DEBUG    [baseneuron.py       : 231] \t __nrnsec_0x404e810_GABAa\n",
      "07-03 16:01 voltage_shunt_level            DEBUG    [voltage_shunt_level.py: 143] \t actual locations: [('dend_1', 0.92857), ('dend_1', 0.92857), ('dend_1', 0.92857), ('dend_1', 0.92857), ('dend_1', 0.92857), ('dend_1', 0.92857), ('dend_1', 0.92857), ('dend_1', 0.92857), ('dend_1', 0.92857), ('dend_1', 0.92857), ('dend_1', 0.92857), ('dend_1', 0.92857), ('dend_1', 0.92857), ('dend_1', 0.92857), ('dend_1', 0.92857), ('dend_1', 0.92857), ('dend_1', 0.92857), ('dend_1', 0.92857), ('dend_1', 0.92857), ('dend_1', 0.92857)]\n",
      "07-03 16:01 voltage_shunt_level            DEBUG    [voltage_shunt_level.py: 150] \t hotspot_n_loc_insert = [([<nrnutils.Section object at 0x7fa131c65890>], [0.595, 0.595, 0.595, 0.595, 0.595, 0.595, 0.595, 0.595, 0.595, 0.595, 0.595, 0.595, 0.595, 0.595, 0.595, 0.595, 0.595, 0.595, 0.595, 0.595])]\n",
      "07-03 16:01 baseneuron                     INFO     [baseneuron.py       : 220] \t placing 'ampa_Tian' on '['SingleDend__nrnsec_0x404e810']' at locations [0.595, 0.595, 0.595, 0.595, 0.595, 0.595, 0.595, 0.595, 0.595, 0.595, 0.595, 0.595, 0.595, 0.595, 0.595, 0.595, 0.595, 0.595, 0.595, 0.595]\n",
      "07-03 16:01 baseneuron                     DEBUG    [baseneuron.py       : 231] \t __nrnsec_0x404e810_ampa_Tian\n",
      "07-03 16:01 voltage_shunt_level            DEBUG    [voltage_shunt_level.py: 168] \t actual locations: [('dend_1', 0.64286), ('dend_1', 0.64286), ('dend_1', 0.64286), ('dend_1', 0.64286), ('dend_1', 0.64286), ('dend_1', 0.64286), ('dend_1', 0.64286), ('dend_1', 0.64286), ('dend_1', 0.64286), ('dend_1', 0.64286), ('dend_1', 0.64286), ('dend_1', 0.64286), ('dend_1', 0.64286), ('dend_1', 0.64286), ('dend_1', 0.64286), ('dend_1', 0.64286), ('dend_1', 0.64286), ('dend_1', 0.64286), ('dend_1', 0.64286), ('dend_1', 0.64286)]\n",
      "07-03 16:01 baseneuron                     DEBUG    [baseneuron.py       : 181] \t cli set to 4.8185494442\n",
      "07-03 16:01 pynrnutils                     DEBUG    [pynrnutils.py       :  23] \t initialising to -65.0\n",
      "07-03 16:01 pynrnutils                     DEBUG    [pynrnutils.py       :  27] \t running NEURON\n",
      "07-03 16:01 pynrnutils                     DEBUG    [pynrnutils.py       :  30] \t running NEURON took 0.05s\n",
      "07-03 16:01 voltage_shunt_level            DEBUG    [voltage_shunt_level.py: 225] \t creating Vd dataframe\n",
      "07-03 16:01 voltage_shunt_level            DEBUG    [voltage_shunt_level.py: 226] \t \t converting recordings from HocObjects to numpy arrays\n",
      "07-03 16:01 voltage_shunt_level            DEBUG    [voltage_shunt_level.py: 229] \t conversion took 0.08s\n",
      "07-03 16:01 voltage_shunt_level            DEBUG    [voltage_shunt_level.py: 232] \t integrating Vd with t=200 tm=200\n",
      "07-03 16:01 voltage_shunt_level            DEBUG    [voltage_shunt_level.py: 235] \t integrating took 0.01s\n",
      "07-03 16:01 voltage_shunt_level            INFO     [voltage_shunt_level.py: 237] \t activating inhibitory conductances with g=0.001\n",
      "07-03 16:01 pynrnutils                     DEBUG    [pynrnutils.py       :  23] \t initialising to -65.0\n",
      "07-03 16:01 pynrnutils                     DEBUG    [pynrnutils.py       :  27] \t running NEURON\n",
      "07-03 16:01 pynrnutils                     DEBUG    [pynrnutils.py       :  30] \t running NEURON took 0.04s\n",
      "07-03 16:01 voltage_shunt_level            DEBUG    [voltage_shunt_level.py: 264] \t creating Vd* dataframe\n",
      "07-03 16:01 voltage_shunt_level            DEBUG    [voltage_shunt_level.py: 267] \t conversion took 0.08s\n",
      "07-03 16:01 voltage_shunt_level            DEBUG    [voltage_shunt_level.py: 270] \t integrating Vd* with t=200 tm=200\n",
      "07-03 16:01 voltage_shunt_level            DEBUG    [voltage_shunt_level.py: 273] \t integrating took 0.02s\n",
      "07-03 16:01 voltage_shunt_level            INFO     [voltage_shunt_level.py: 275] \t calculating shunt level\n",
      "07-03 16:01 voltage_shunt_level            INFO     [voltage_shunt_level.py: 280] \t calculating attenuation\n",
      "07-03 16:01 voltage_shunt_level            INFO     [voltage_shunt_level.py: 383] \t Setting distance measurement from soma\n",
      "07-03 16:01 voltage_shunt_level            INFO     [voltage_shunt_level.py: 397] \t distance units for shunt level is $\\mu m$\n",
      "07-03 16:01 voltage_shunt_level            INFO     [voltage_shunt_level.py: 447] \t plotting shunt level\n",
      "07-03 16:01 voltage_shunt_level            INFO     [voltage_shunt_level.py: 480] \t placing markers\n",
      "07-03 16:01 voltage_shunt_level            DEBUG    [voltage_shunt_level.py: 518] \t adding sections to plot\n",
      "07-03 16:01 voltage_shunt_level            INFO     [voltage_shunt_level.py: 546] \t customising figure legends\n",
      "07-03 16:01 voltage_shunt_level            INFO     [voltage_shunt_level.py: 650] \t setting xlabels and ylabels\n",
      "07-03 16:01 voltage_shunt_level            INFO     [voltage_shunt_level.py: 667] \t formatting figure\n",
      "/home/cbc/.local/lib/python2.7/site-packages/matplotlib/font_manager.py:1328: UserWarning: findfont: Font family [u'Arial'] not found. Falling back to DejaVu Sans\n",
      "  (prop.get_family(), self.defaultFamily[fontext]))\n",
      "07-03 16:01 voltage_shunt_level            INFO     [voltage_shunt_level.py: 673] \t extra legend for for voltage\n",
      "07-03 16:01 baseneuron                     DEBUG    [baseneuron.py       : 181] \t cli set to 5\n",
      "07-03 16:01 baseneuron                     DEBUG    [baseneuron.py       :  56] \t total nseg BEFORE geom_nseg: 275\n",
      "07-03 16:01 baseneuron                     DEBUG    [baseneuron.py       :  63] \t total nseg AFTER geom_nseg: 9\n",
      "07-03 16:01 baseneuron                     DEBUG    [baseneuron.py       :  64] \t Neuron built\n",
      "07-03 16:01 baseneuron                     DEBUG    [baseneuron.py       : 181] \t cli set to 4\n",
      "07-03 16:01 pynrnutils                     INFO     [pynrnutils.py       : 104] \t steady state [Cl]_i 4.8185494442\n",
      "07-03 16:01 pynrnutils                     INFO     [pynrnutils.py       : 105] \t steady state Vm -65.0\n",
      "07-03 16:01 pynrnutils                     INFO     [pynrnutils.py       : 106] \t took 50000 ms (simulation time)\n",
      "07-03 16:01 voltage_shunt_level            DEBUG    [voltage_shunt_level.py: 125] \t inhib_n_loc_insert = [([<nrnutils.Section object at 0x7fa131af6b50>], [0.2, 0.2, 0.2, 0.2, 0.2, 0.2, 0.2, 0.2, 0.2, 0.2, 0.2, 0.2, 0.2, 0.2, 0.2, 0.2, 0.2, 0.2, 0.2, 0.2])]\n",
      "07-03 16:01 baseneuron                     INFO     [baseneuron.py       : 220] \t placing 'GABAa' on '['SingleDend__nrnsec_0x404e930']' at locations [0.2, 0.2, 0.2, 0.2, 0.2, 0.2, 0.2, 0.2, 0.2, 0.2, 0.2, 0.2, 0.2, 0.2, 0.2, 0.2, 0.2, 0.2, 0.2, 0.2]\n",
      "07-03 16:01 baseneuron                     DEBUG    [baseneuron.py       : 231] \t __nrnsec_0x404e930_GABAa\n",
      "07-03 16:01 voltage_shunt_level            DEBUG    [voltage_shunt_level.py: 143] \t actual locations: [('dend_1', 0.21429), ('dend_1', 0.21429), ('dend_1', 0.21429), ('dend_1', 0.21429), ('dend_1', 0.21429), ('dend_1', 0.21429), ('dend_1', 0.21429), ('dend_1', 0.21429), ('dend_1', 0.21429), ('dend_1', 0.21429), ('dend_1', 0.21429), ('dend_1', 0.21429), ('dend_1', 0.21429), ('dend_1', 0.21429), ('dend_1', 0.21429), ('dend_1', 0.21429), ('dend_1', 0.21429), ('dend_1', 0.21429), ('dend_1', 0.21429), ('dend_1', 0.21429)]\n"
     ]
    },
    {
     "name": "stderr",
     "output_type": "stream",
     "text": [
      "07-03 16:01 voltage_shunt_level            DEBUG    [voltage_shunt_level.py: 150] \t hotspot_n_loc_insert = [([<nrnutils.Section object at 0x7fa131af6b50>], [0.595, 0.595, 0.595, 0.595, 0.595, 0.595, 0.595, 0.595, 0.595, 0.595, 0.595, 0.595, 0.595, 0.595, 0.595, 0.595, 0.595, 0.595, 0.595, 0.595])]\n",
      "07-03 16:01 baseneuron                     INFO     [baseneuron.py       : 220] \t placing 'ampa_Tian' on '['SingleDend__nrnsec_0x404e930']' at locations [0.595, 0.595, 0.595, 0.595, 0.595, 0.595, 0.595, 0.595, 0.595, 0.595, 0.595, 0.595, 0.595, 0.595, 0.595, 0.595, 0.595, 0.595, 0.595, 0.595]\n",
      "07-03 16:01 baseneuron                     DEBUG    [baseneuron.py       : 231] \t __nrnsec_0x404e930_ampa_Tian\n",
      "07-03 16:01 voltage_shunt_level            DEBUG    [voltage_shunt_level.py: 168] \t actual locations: [('dend_1', 0.64286), ('dend_1', 0.64286), ('dend_1', 0.64286), ('dend_1', 0.64286), ('dend_1', 0.64286), ('dend_1', 0.64286), ('dend_1', 0.64286), ('dend_1', 0.64286), ('dend_1', 0.64286), ('dend_1', 0.64286), ('dend_1', 0.64286), ('dend_1', 0.64286), ('dend_1', 0.64286), ('dend_1', 0.64286), ('dend_1', 0.64286), ('dend_1', 0.64286), ('dend_1', 0.64286), ('dend_1', 0.64286), ('dend_1', 0.64286), ('dend_1', 0.64286)]\n",
      "07-03 16:01 baseneuron                     DEBUG    [baseneuron.py       : 181] \t cli set to 4.8185494442\n",
      "07-03 16:01 pynrnutils                     DEBUG    [pynrnutils.py       :  23] \t initialising to -65.0\n",
      "07-03 16:01 pynrnutils                     DEBUG    [pynrnutils.py       :  27] \t running NEURON\n",
      "07-03 16:01 pynrnutils                     DEBUG    [pynrnutils.py       :  30] \t running NEURON took 0.05s\n",
      "07-03 16:01 voltage_shunt_level            DEBUG    [voltage_shunt_level.py: 225] \t creating Vd dataframe\n",
      "07-03 16:01 voltage_shunt_level            DEBUG    [voltage_shunt_level.py: 226] \t \t converting recordings from HocObjects to numpy arrays\n",
      "07-03 16:01 voltage_shunt_level            DEBUG    [voltage_shunt_level.py: 229] \t conversion took 0.08s\n",
      "07-03 16:01 voltage_shunt_level            DEBUG    [voltage_shunt_level.py: 232] \t integrating Vd with t=200 tm=200\n",
      "07-03 16:01 voltage_shunt_level            DEBUG    [voltage_shunt_level.py: 235] \t integrating took 0.02s\n",
      "07-03 16:01 voltage_shunt_level            INFO     [voltage_shunt_level.py: 237] \t activating inhibitory conductances with g=0.001\n",
      "07-03 16:01 pynrnutils                     DEBUG    [pynrnutils.py       :  23] \t initialising to -65.0\n",
      "07-03 16:01 pynrnutils                     DEBUG    [pynrnutils.py       :  27] \t running NEURON\n",
      "07-03 16:01 pynrnutils                     DEBUG    [pynrnutils.py       :  30] \t running NEURON took 0.05s\n",
      "07-03 16:01 voltage_shunt_level            DEBUG    [voltage_shunt_level.py: 264] \t creating Vd* dataframe\n",
      "07-03 16:01 voltage_shunt_level            DEBUG    [voltage_shunt_level.py: 267] \t conversion took 0.09s\n",
      "07-03 16:01 voltage_shunt_level            DEBUG    [voltage_shunt_level.py: 270] \t integrating Vd* with t=200 tm=200\n",
      "07-03 16:01 voltage_shunt_level            DEBUG    [voltage_shunt_level.py: 273] \t integrating took 0.01s\n",
      "07-03 16:01 voltage_shunt_level            INFO     [voltage_shunt_level.py: 275] \t calculating shunt level\n",
      "07-03 16:01 voltage_shunt_level            INFO     [voltage_shunt_level.py: 280] \t calculating attenuation\n",
      "07-03 16:01 voltage_shunt_level            INFO     [voltage_shunt_level.py: 383] \t Setting distance measurement from soma\n",
      "07-03 16:01 voltage_shunt_level            INFO     [voltage_shunt_level.py: 397] \t distance units for shunt level is $\\mu m$\n",
      "07-03 16:01 voltage_shunt_level            INFO     [voltage_shunt_level.py: 447] \t plotting shunt level\n",
      "07-03 16:01 voltage_shunt_level            INFO     [voltage_shunt_level.py: 480] \t placing markers\n",
      "07-03 16:01 voltage_shunt_level            DEBUG    [voltage_shunt_level.py: 518] \t adding sections to plot\n",
      "07-03 16:01 voltage_shunt_level            INFO     [voltage_shunt_level.py: 546] \t customising figure legends\n",
      "07-03 16:01 voltage_shunt_level            INFO     [voltage_shunt_level.py: 650] \t setting xlabels and ylabels\n",
      "07-03 16:01 voltage_shunt_level            INFO     [voltage_shunt_level.py: 667] \t formatting figure\n",
      "07-03 16:01 voltage_shunt_level            INFO     [voltage_shunt_level.py: 673] \t extra legend for for voltage\n"
     ]
    }
   ],
   "source": [
    "plot = voltage_shunt_level_plot(new_once=True)\n",
    "num_exc_synapses = 20\n",
    "num_inh_synapses = 20\n",
    "off_path_location = 0.99\n",
    "on_path_location = 0.2\n",
    "hotspot_location = (off_path_location - on_path_location) / 2.0 + on_path_location\n",
    "plot_df_sl_atten=False\n",
    "\n",
    "common_netstim_args = dict(hz=20,\n",
    "                            start=0,\n",
    "                            noise=1,\n",
    "                            duration=None,  # defaults to tstop\n",
    "                            weight=1,\n",
    "                            n_sources=0)\n",
    "\n",
    "voltage_shunt_level(plot, plot_df_sl_atten=plot_df_sl_atten, v_init='auto',\n",
    "                    inhib_syn_type='GABAa', exc_syn_type='ampa_Tian',\n",
    "                    inhib_n_loc_insert=[off_path_location] * num_inh_synapses,\n",
    "                    hotspot_n_loc_insert=[hotspot_location] * num_exc_synapses,\n",
    "                    inh_netstim_args=common_netstim_args,\n",
    "                    exc_netstim_args=common_netstim_args,\n",
    "                    colormap='Blues', iter_label=\"Off-path\")\n",
    "voltage_shunt_level(plot, plot_df_sl_atten=plot_df_sl_atten, v_init='auto',\n",
    "                    inhib_syn_type='GABAa', exc_syn_type='ampa_Tian',\n",
    "                    inhib_n_loc_insert=[on_path_location] * num_inh_synapses,\n",
    "                    hotspot_n_loc_insert=[hotspot_location] * num_exc_synapses,\n",
    "                    inh_netstim_args=common_netstim_args,\n",
    "                    exc_netstim_args=common_netstim_args,\n",
    "                    colormap='Greens', iter_label=\"On-path\")\n",
    "\n",
    "# voltage_shunt_level(plot, v_init='auto',\n",
    "#                     inhib_syn_type='GABAa', exc_syn_type='ampa_Tian',\n",
    "#                     inhib_n_loc_insert=[off_path_location] * int(num_synapses / 2) +\n",
    "#                                        [on_path_location] * int(num_synapses / 2),\n",
    "#                     hotspot_n_loc_insert=[hotspot_location] * num_synapses,\n",
    "#                     inh_netstim_args=inh_netstim_args,\n",
    "#                     exc_netstim_args=inh_netstim_args,\n",
    "#                     colormap='Reds', iter_label=\"On- and Off-path\")\n",
    "plt.show()"
   ]
  },
  {
   "cell_type": "markdown",
   "metadata": {},
   "source": [
    "## Shunt Level Accumulation\n",
    "\n",
    "From your Fig 4F ![sl_accumulation.png](sl_accumulation.png)\n",
    "\n",
    "Shunt Level should be greater at a junction than at the synapse for sufficiently great number of branches. \n",
    "\n",
    "Here I try recreate that using a simple model (reduced parameters, no ions) and a (slightly) more complex model with GABAa and ions $K^+$ , $Na^+$ , $Cl^-$ , and $HCO_3^-$.\n",
    "\n",
    "I've tried a number of parameters in `kwargs`, as well as in `inh_netstim_args`, plus with + without excitation (`exc_syn_type` as `None` or `ampa_Tian`).\n",
    "\n",
    "I've also tried different morphologies, but have reduced it to as simple as possible to recreate the finding. I attempted a 2-cylinder model (not shown), but wasn't succeeding with having the simulations be the same as in the radial (`MultiDend`) model.\n",
    "\n"
   ]
  },
  {
   "cell_type": "markdown",
   "metadata": {},
   "source": [
    "### create plot per simulation"
   ]
  },
  {
   "cell_type": "code",
   "execution_count": 10,
   "metadata": {},
   "outputs": [],
   "source": [
    "plot = voltage_shunt_level_plot(new_once=False)"
   ]
  },
  {
   "cell_type": "markdown",
   "metadata": {},
   "source": [
    "## Neuron Parameters"
   ]
  },
  {
   "cell_type": "code",
   "execution_count": 11,
   "metadata": {},
   "outputs": [],
   "source": [
    "x_units = [\n",
    "    settings.um, # distance from soma on x-axis of shunt-level (where soma(0.0) is 0 and soma(1.0) is L)\n",
    "    'X'          # X on x-axis of shunt-level\n",
    "    ][1] # choose option\n",
    " \n",
    "# note that parameters in kwarg will only apply to the morphology that has that parameter\n",
    "#   e.g. g_k_bar will be set in MultiDend but not MultiDendSimple (as 'k' mechanism is not present)\n",
    "kwargs = {\n",
    "    'radial_l': 50,\n",
    "    'radial_diam': 1, \n",
    "    'g_k_bar': 5,  # default = 5\n",
    "    'p_cl': 0.4,  # default = 0.4\n",
    "    'g_na_bar': 2000,  # default = 2000\n",
    "    'p_na': 0.23,  # default = 0.23\n",
    "    'num_dendrites': 16,\n",
    "    'inh_synapse_sources': 1, # default 1, 0 for each synapse to get it's own source of input\n",
    "    'Ra': 100,  # default = 100\n",
    "    'g_im_bar': 0.00012,  # default = 0.00012\n",
    "    'g_pas_k': 0.000125,  # default = 0.000125\n",
    "}\n",
    "neuron_kwargs = dict(\n",
    "    axon=False,\n",
    "    soma=False,\n",
    "    even_radial=False,\n",
    "    radial_nseg=9,\n",
    "    **kwargs\n",
    ")\n"
   ]
  },
  {
   "cell_type": "markdown",
   "metadata": {},
   "source": [
    "### Excitation\n",
    "`exc_syn_type = None` disables excitation altogether.\n",
    "\n",
    "Trying changing `None` to `ampa_Tian` to have excitation"
   ]
  },
  {
   "cell_type": "code",
   "execution_count": 12,
   "metadata": {},
   "outputs": [],
   "source": [
    "exc_syn_type  = None\n",
    "total_exc_synapses = 20\n",
    "exc_synapse_location = 0.01\n",
    "exc_netstim_args = dict(hz=100,\n",
    "                        start=0,\n",
    "                        noise=1,\n",
    "                        duration=None,  # defaults to tstop\n",
    "                        weight=1,\n",
    "                        n_sources=0)"
   ]
  },
  {
   "cell_type": "markdown",
   "metadata": {},
   "source": [
    "### Inhibition\n",
    "`loc` is location of inhibition on dendrite\n",
    "\n",
    "`inh_netstim_args` only applies when `inhib_syn_type = GABAa` "
   ]
  },
  {
   "cell_type": "code",
   "execution_count": 13,
   "metadata": {},
   "outputs": [],
   "source": [
    "loc = 0.2\n",
    "\n",
    "inh_netstim_args = dict(hz=100,\n",
    "                        start=0,\n",
    "                        noise=1,\n",
    "                        duration=None,  # defaults to tstop\n",
    "                        weight=1, # increases strength of a single synapse (# channels activated)\n",
    "                        n_sources=kwargs['inh_synapse_sources'])"
   ]
  },
  {
   "cell_type": "markdown",
   "metadata": {},
   "source": [
    "## SIMPLE Model\n",
    "\n",
    "| inhib_syn_type | neuron_class | \n",
    "|--- | --- |\n",
    "| `inhfluct_simple` | `MultiDendSimple` |\n",
    "\n",
    "\n"
   ]
  },
  {
   "cell_type": "code",
   "execution_count": 14,
   "metadata": {},
   "outputs": [
    {
     "name": "stderr",
     "output_type": "stream",
     "text": [
      "06-19 14:06 sl_accumulation                DEBUG    [<ipython-input-14-dd1e65b405e5>:   2] \t simple model (no soma)\n",
      "06-19 14:06 sl_accumulation                DEBUG    [<ipython-input-14-dd1e65b405e5>:   8] \t running\n",
      "06-19 14:06 baseneuron                     DEBUG    [baseneuron.py       : 181] \t cli set to 5\n",
      "06-19 14:06 baseneuron                     DEBUG    [baseneuron.py       :  56] \t total nseg BEFORE geom_nseg: 144\n",
      "06-19 14:06 baseneuron                     DEBUG    [baseneuron.py       :  64] \t Neuron built\n",
      "06-19 14:06 baseneuron                     DEBUG    [baseneuron.py       : 181] \t cli set to 4\n",
      "06-19 14:06 pynrnutils                     INFO     [pynrnutils.py       : 104] \t steady state [Cl]_i 4.82144022239\n",
      "06-19 14:06 pynrnutils                     INFO     [pynrnutils.py       : 105] \t steady state Vm -65.0\n",
      "06-19 14:06 pynrnutils                     INFO     [pynrnutils.py       : 106] \t took 50000 ms (simulation time)\n",
      "06-19 14:06 baseneuron                     DEBUG    [baseneuron.py       : 181] \t cli set to 5\n",
      "06-19 14:06 baseneuron                     DEBUG    [baseneuron.py       :  56] \t total nseg BEFORE geom_nseg: 144\n",
      "06-19 14:06 baseneuron                     DEBUG    [baseneuron.py       :  64] \t Neuron built\n",
      "06-19 14:06 voltage_shunt_level            DEBUG    [voltage_shunt_level.py: 125] \t inhib_n_loc_insert = [([<nrnutils.Section object at 0x7f7da6183260>, <nrnutils.Section object at 0x7f7da6183470>, <nrnutils.Section object at 0x7f7da6183100>, <nrnutils.Section object at 0x7f7da61833c0>, <nrnutils.Section object at 0x7f7da61832b8>, <nrnutils.Section object at 0x7f7da6183310>, <nrnutils.Section object at 0x7f7da61834c8>, <nrnutils.Section object at 0x7f7da6183368>, <nrnutils.Section object at 0x7f7da4204100>, <nrnutils.Section object at 0x7f7da4204208>, <nrnutils.Section object at 0x7f7da42041b0>, <nrnutils.Section object at 0x7f7da4204158>, <nrnutils.Section object at 0x7f7da62b7520>, <nrnutils.Section object at 0x7f7da62b7680>, <nrnutils.Section object at 0x7f7da62b70a8>, <nrnutils.Section object at 0x7f7da62b7158>], [0.2])]\n",
      "06-19 14:06 baseneuron                     INFO     [baseneuron.py       : 220] \t placing 'inhfluct_simple' on '['MultiDend__nrnsec_0x33eb7f0', 'MultiDend__nrnsec_0x33eb850', 'MultiDend__nrnsec_0x33eb8b0', 'MultiDend__nrnsec_0x33eb910', 'MultiDend__nrnsec_0x33eb970', 'MultiDend__nrnsec_0x33eb9d0', 'MultiDend__nrnsec_0x33eba30', 'MultiDend__nrnsec_0x33eba90', 'MultiDend__nrnsec_0x33ebaf0', 'MultiDend__nrnsec_0x33ebb50', 'MultiDend__nrnsec_0x33ebbb0', 'MultiDend__nrnsec_0x33ebc10', 'MultiDend__nrnsec_0x33ebc70', 'MultiDend__nrnsec_0x33ebcd0', 'MultiDend__nrnsec_0x33ebd30', 'MultiDend__nrnsec_0x33ebd90']' at locations [0.2]\n",
      "06-19 14:06 baseneuron                     DEBUG    [baseneuron.py       : 231] \t __nrnsec_0x33eb7f0_inhfluct_simple\n",
      "06-19 14:06 baseneuron                     DEBUG    [baseneuron.py       : 231] \t __nrnsec_0x33eb850_inhfluct_simple\n",
      "06-19 14:06 baseneuron                     DEBUG    [baseneuron.py       : 231] \t __nrnsec_0x33eb8b0_inhfluct_simple\n",
      "06-19 14:06 baseneuron                     DEBUG    [baseneuron.py       : 231] \t __nrnsec_0x33eb910_inhfluct_simple\n",
      "06-19 14:06 baseneuron                     DEBUG    [baseneuron.py       : 231] \t __nrnsec_0x33eb970_inhfluct_simple\n",
      "06-19 14:06 baseneuron                     DEBUG    [baseneuron.py       : 231] \t __nrnsec_0x33eb9d0_inhfluct_simple\n",
      "06-19 14:06 baseneuron                     DEBUG    [baseneuron.py       : 231] \t __nrnsec_0x33eba30_inhfluct_simple\n",
      "06-19 14:06 baseneuron                     DEBUG    [baseneuron.py       : 231] \t __nrnsec_0x33eba90_inhfluct_simple\n",
      "06-19 14:06 baseneuron                     DEBUG    [baseneuron.py       : 231] \t __nrnsec_0x33ebaf0_inhfluct_simple\n",
      "06-19 14:06 baseneuron                     DEBUG    [baseneuron.py       : 231] \t __nrnsec_0x33ebb50_inhfluct_simple\n",
      "06-19 14:06 baseneuron                     DEBUG    [baseneuron.py       : 231] \t __nrnsec_0x33ebbb0_inhfluct_simple\n",
      "06-19 14:06 baseneuron                     DEBUG    [baseneuron.py       : 231] \t __nrnsec_0x33ebc10_inhfluct_simple\n",
      "06-19 14:06 baseneuron                     DEBUG    [baseneuron.py       : 231] \t __nrnsec_0x33ebc70_inhfluct_simple\n",
      "06-19 14:06 baseneuron                     DEBUG    [baseneuron.py       : 231] \t __nrnsec_0x33ebcd0_inhfluct_simple\n",
      "06-19 14:06 baseneuron                     DEBUG    [baseneuron.py       : 231] \t __nrnsec_0x33ebd30_inhfluct_simple\n",
      "06-19 14:06 baseneuron                     DEBUG    [baseneuron.py       : 231] \t __nrnsec_0x33ebd90_inhfluct_simple\n",
      "06-19 14:06 voltage_shunt_level            DEBUG    [voltage_shunt_level.py: 143] \t actual locations: [('radial_dends_1', 0.16667), ('radial_dends_2', 0.16667), ('radial_dends_3', 0.16667), ('radial_dends_4', 0.16667), ('radial_dends_5', 0.16667), ('radial_dends_6', 0.16667), ('radial_dends_7', 0.16667), ('radial_dends_8', 0.16667), ('radial_dends_9', 0.16667), ('radial_dends_10', 0.16667), ('radial_dends_11', 0.16667), ('radial_dends_12', 0.16667), ('radial_dends_13', 0.16667), ('radial_dends_14', 0.16667), ('radial_dends_15', 0.16667), ('radial_dends_16', 0.16667)]\n",
      "06-19 14:06 baseneuron                     DEBUG    [baseneuron.py       : 181] \t cli set to 4.82144022239\n",
      "06-19 14:06 pynrnutils                     DEBUG    [pynrnutils.py       :  23] \t initialising to -65.0\n",
      "06-19 14:06 pynrnutils                     DEBUG    [pynrnutils.py       :  27] \t running NEURON\n",
      "06-19 14:06 pynrnutils                     DEBUG    [pynrnutils.py       :  30] \t running NEURON took 0.09s\n",
      "06-19 14:06 voltage_shunt_level            DEBUG    [voltage_shunt_level.py: 225] \t creating Vd dataframe\n",
      "06-19 14:06 voltage_shunt_level            DEBUG    [voltage_shunt_level.py: 226] \t \t converting recordings from HocObjects to numpy arrays\n",
      "06-19 14:06 voltage_shunt_level            DEBUG    [voltage_shunt_level.py: 229] \t conversion took 1.15s\n",
      "06-19 14:06 voltage_shunt_level            DEBUG    [voltage_shunt_level.py: 232] \t integrating Vd with t=200 tm=200\n",
      "06-19 14:06 voltage_shunt_level            DEBUG    [voltage_shunt_level.py: 235] \t integrating took 0.03s\n",
      "06-19 14:06 voltage_shunt_level            INFO     [voltage_shunt_level.py: 237] \t activating inhibitory conductances with g=0.001\n",
      "06-19 14:06 pynrnutils                     DEBUG    [pynrnutils.py       :  23] \t initialising to -65.0\n",
      "06-19 14:06 pynrnutils                     DEBUG    [pynrnutils.py       :  27] \t running NEURON\n",
      "06-19 14:06 pynrnutils                     DEBUG    [pynrnutils.py       :  30] \t running NEURON took 0.09s\n",
      "06-19 14:06 voltage_shunt_level            DEBUG    [voltage_shunt_level.py: 264] \t creating Vd* dataframe\n",
      "06-19 14:06 voltage_shunt_level            DEBUG    [voltage_shunt_level.py: 267] \t conversion took 1.41s\n",
      "06-19 14:06 voltage_shunt_level            DEBUG    [voltage_shunt_level.py: 270] \t integrating Vd* with t=200 tm=200\n",
      "06-19 14:06 voltage_shunt_level            DEBUG    [voltage_shunt_level.py: 273] \t integrating took 0.10s\n",
      "06-19 14:06 voltage_shunt_level            INFO     [voltage_shunt_level.py: 275] \t calculating shunt level\n",
      "06-19 14:06 voltage_shunt_level            INFO     [voltage_shunt_level.py: 280] \t calculating attenuation\n"
     ]
    },
    {
     "data": {
      "text/plain": [
       "<IPython.core.display.Javascript object>"
      ]
     },
     "metadata": {},
     "output_type": "display_data"
    }
   ],
   "source": [
    "iter_label = \"simple model (no soma)\"\n",
    "logger.debug(iter_label)\n",
    "\n",
    "inhib_syn_type = 'inhfluct_simple'\n",
    "\n",
    "neuron_class = MultiDendSimple\n",
    "\n",
    "logger.debug(\"running\")\n",
    "df_sl, df_sl_att, fig, axes = voltage_shunt_level(plot,\n",
    "                                                  v_init='auto',\n",
    "                                                  e_offset=-5,\n",
    "                                                  inhib_syn_type=inhib_syn_type,\n",
    "                                                  exc_syn_type=exc_syn_type,\n",
    "                                                  inhib_n_loc_insert=[loc],\n",
    "                                                  hotspot_n_loc_insert=[('dend[0]',[exc_synapse_location] * total_exc_synapses)],\n",
    "                                                  inh_netstim_args=inh_netstim_args,\n",
    "                                                  exc_netstim_args=exc_netstim_args,\n",
    "                                                  colormap='RdYlGn',\n",
    "                                                  neuron=neuron_class,\n",
    "                                                  neuron_args=neuron_kwargs,\n",
    "                                                  iter_label=iter_label,\n",
    "                                                  x_units=x_units)\n",
    "axes[1].autoscale(True)\n",
    "axes[2].autoscale(True)\n",
    "plt.show()"
   ]
  }
 ],
 "metadata": {
  "kernelspec": {
   "display_name": "Python 2",
   "language": "python",
   "name": "python2"
  },
  "language_info": {
   "codemirror_mode": {
    "name": "ipython",
    "version": 2
   },
   "file_extension": ".py",
   "mimetype": "text/x-python",
   "name": "python",
   "nbconvert_exporter": "python",
   "pygments_lexer": "ipython2",
   "version": "2.7.12"
  }
 },
 "nbformat": 4,
 "nbformat_minor": 2
}
